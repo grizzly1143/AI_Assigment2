{
 "cells": [
  {
   "cell_type": "code",
   "execution_count": null,
   "metadata": {},
   "outputs": [],
   "source": [
    "from PIL import Image, ImageDraw, ImageChops\n",
    "import numpy as np\n",
    "import random as rnd\n",
    "import copy"
   ]
  },
  {
   "cell_type": "code",
   "execution_count": null,
   "metadata": {},
   "outputs": [],
   "source": [
    "num_of_gens = 7000\n",
    "image = Image.open(\"ob.jpg\")"
   ]
  },
  {
   "cell_type": "code",
   "execution_count": null,
   "metadata": {},
   "outputs": [],
   "source": [
    "def draw(ind):\n",
    "    imgdr = Image.new('RGB', (512, 512), (int(a), int(a), int(a)))\n",
    "    drwim = ImageDraw.Draw(imgdr, 'RGBA')\n",
    "    for ir in range(len(ind)):\n",
    "        drwim.polygon([(ind[ir][0], ind[ir][1]), (ind[ir][2], ind[ir][3]), (ind[ir][4], ind[ir][5])], fill=(ind[ir][6], ind[ir][7], ind[ir][8], 125))\n",
    "    return imgdr"
   ]
  },
  {
   "cell_type": "code",
   "execution_count": null,
   "metadata": {},
   "outputs": [],
   "source": [
    "def dr2img(ind):\n",
    "    temp = copy.deepcopy(new_image)\n",
    "    drwim = ImageDraw.Draw(temp, 'RGBA')\n",
    "    drwim.polygon([(ind[0], ind[1]), (ind[2], ind[3]), (ind[4], ind[5])], fill=(ind[6], ind[7], ind[8], 125))\n",
    "    return temp"
   ]
  },
  {
   "cell_type": "code",
   "execution_count": null,
   "metadata": {},
   "outputs": [],
   "source": [
    "def draw_obj(ind):\n",
    "    imgdr = Image.new('RGB', (512, 512), (int(a), int(a), int(a)))\n",
    "    drwim = ImageDraw.Draw(imgdr, 'RGBA')\n",
    "    drwim.polygon([(ind[0], ind[1]), (ind[2], ind[3]), (ind[4], ind[5])], fill=(ind[6], ind[7], ind[8], 125))\n",
    "    return imgdr"
   ]
  },
  {
   "cell_type": "code",
   "execution_count": null,
   "metadata": {},
   "outputs": [],
   "source": [
    "def fitness(image1, image2):\n",
    "    return np.sum(np.absolute(np.array(ImageChops.difference(image1, image2))))"
   ]
  },
  {
   "cell_type": "code",
   "execution_count": null,
   "metadata": {},
   "outputs": [],
   "source": [
    "def mutate(obj):\n",
    "    todo = rnd.randint(0, 1)\n",
    "    if todo == 1:\n",
    "        for i in range(6):\n",
    "            obj[i] = obj[i] + rnd.randint(-150, 150)\n",
    "    else:\n",
    "        obj[6] = obj[6] + rnd.randint(-40, 40)\n",
    "        obj[7] = obj[7] + rnd.randint(-40, 40)\n",
    "        obj[8] = obj[8] + rnd.randint(-40, 40)"
   ]
  },
  {
   "cell_type": "code",
   "execution_count": null,
   "metadata": {},
   "outputs": [],
   "source": [
    "def generate(n):\n",
    "    obj = []\n",
    "    for i in range(n):\n",
    "        temp = np.zeros(9, dtype=np.int32)\n",
    "        for j in range(6):\n",
    "            temp[j] = rnd.randint(0, 511)\n",
    "        temp[6] = rnd.randint(0, 255)\n",
    "        temp[7] = rnd.randint(0, 255)\n",
    "        temp[8] = rnd.randint(0, 255)\n",
    "        obj.append(temp)\n",
    "    return obj"
   ]
  },
  {
   "cell_type": "code",
   "execution_count": null,
   "metadata": {},
   "outputs": [],
   "source": [
    "def cross(obj, obj1):\n",
    "    temp = np.zeros(9, dtype=np.int32)\n",
    "    for i in range(9):\n",
    "        todo = rnd.randint(0, 1)\n",
    "        if todo == 1:\n",
    "            temp[i] = obj[i]\n",
    "        else:\n",
    "            temp[i] = obj1[i]\n",
    "    return temp"
   ]
  },
  {
   "cell_type": "code",
   "execution_count": null,
   "metadata": {},
   "outputs": [],
   "source": [
    "def fitSort(val):\n",
    "    return fitness(image, draw_obj(val))"
   ]
  },
  {
   "cell_type": "code",
   "execution_count": null,
   "metadata": {},
   "outputs": [],
   "source": [
    "a = np.sum(np.array(image)) // (512 * 512 * 3)\n",
    "it = 0\n",
    "population = generate(num_of_gens)\n",
    "population.sort(key=fitSort)\n",
    "population = population[0:3500]\n",
    "fit_arr = []\n",
    "for ind in range(len(population)):\n",
    "    fit_arr.append(fitness(image, draw_obj(population[ind])))\n",
    "new_image = draw(population)\n",
    "new_image.save('output.png', 'PNG')\n",
    "print(f'Generation: {it} Fitness: {fitness(image, draw(population))} Size: {len(population)}')\n",
    "it += 1"
   ]
  },
  {
   "cell_type": "code",
   "execution_count": null,
   "metadata": {},
   "outputs": [],
   "source": [
    "while True:\n",
    "    old_image = copy.deepcopy(new_image)\n",
    "    fit = fitness(image, new_image)\n",
    "    old_fit = copy.deepcopy(fit_arr)\n",
    "    old_pop = copy.deepcopy(population)\n",
    "    for ind in range(len(population)):\n",
    "        tmp = copy.deepcopy(population[ind])\n",
    "        mutate(population[ind])\n",
    "        mut_image = dr2img(population[ind])\n",
    "        if fit < fitness(image, mut_image):\n",
    "            population[ind] = copy.deepcopy(tmp)\n",
    "        else:\n",
    "            fit = fitness(image, mut_image)\n",
    "            new_image = mut_image\n",
    "    print(\"Mutation completed!\")\n",
    "    for ind in range(len(population)):\n",
    "        j = rnd.randint(0, 3499)\n",
    "        k = rnd.randint(0, 3499)\n",
    "        while j == k:\n",
    "            j = rnd.randint(0, 3499)\n",
    "            k = rnd.randint(0, 3499)\n",
    "        crs = cross(population[j], population[k])\n",
    "        fit3 = fitness(image, dr2img(crs))\n",
    "        if fit3 < fit:\n",
    "            population.append(crs)\n",
    "            fit = fit3\n",
    "            test_pop1 = copy.deepcopy(population)\n",
    "            del test_pop1[j]\n",
    "            test_pop2 = copy.deepcopy(population)\n",
    "            del test_pop2[k]\n",
    "            img1 = draw(test_pop1)\n",
    "            img2 = draw(test_pop2)\n",
    "            fit1 = fitness(image, img1)\n",
    "            fit2 = fitness(image, img2)\n",
    "            dlt = False\n",
    "            if fit1 < fit:\n",
    "                del population[j]\n",
    "                new_image = img1\n",
    "                fit = fit1\n",
    "                dlt = True\n",
    "            if fit2 < fit:\n",
    "                if dlt and j < k:\n",
    "                    del population[k-1]\n",
    "                else:\n",
    "                    del population[k]\n",
    "                new_image = img2\n",
    "                fit = fit2\n",
    "    print(\"Crossover completed!\")\n",
    "    new_image.save('output.png', 'PNG')\n",
    "    print(f'Generation: {it} Fitness: {fitness(image, new_image)} Size: {len(population)}')\n",
    "    it += 1"
   ]
  }
 ],
 "metadata": {
  "kernelspec": {
   "display_name": "Python 3",
   "language": "python",
   "name": "python3"
  },
  "language_info": {
   "codemirror_mode": {
    "name": "ipython",
    "version": 3
   },
   "file_extension": ".py",
   "mimetype": "text/x-python",
   "name": "python",
   "nbconvert_exporter": "python",
   "pygments_lexer": "ipython3",
   "version": "3.6.7"
  }
 },
 "nbformat": 4,
 "nbformat_minor": 2
}
